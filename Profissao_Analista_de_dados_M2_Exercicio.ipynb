{
  "nbformat": 4,
  "nbformat_minor": 0,
  "metadata": {
    "colab": {
      "provenance": [],
      "toc_visible": true,
      "include_colab_link": true
    },
    "kernelspec": {
      "name": "python3",
      "display_name": "Python 3"
    }
  },
  "cells": [
    {
      "cell_type": "markdown",
      "metadata": {
        "id": "view-in-github",
        "colab_type": "text"
      },
      "source": [
        "<a href=\"https://colab.research.google.com/github/NadyLuna/AnalistaDeDados/blob/main/Profissao_Analista_de_dados_M2_Exercicio.ipynb\" target=\"_parent\"><img src=\"https://colab.research.google.com/assets/colab-badge.svg\" alt=\"Open In Colab\"/></a>"
      ]
    },
    {
      "cell_type": "markdown",
      "metadata": {
        "id": "KJqp9AANOCtf"
      },
      "source": [
        "<img src=\"https://raw.githubusercontent.com/andre-marcos-perez/ebac-course-utils/main/media/logo/newebac_logo_black_half.png\" alt=\"ebac-logo\">\n",
        "\n",
        "---\n",
        "\n",
        "# **Módulo** | Python: Estruturas de Dados\n",
        "Caderno de **Exercícios**<br>\n",
        "Professor [André Perez](https://www.linkedin.com/in/andremarcosperez/)\n",
        "\n",
        "---"
      ]
    },
    {
      "cell_type": "markdown",
      "metadata": {
        "id": "d9jDtUbDOE1-"
      },
      "source": [
        "# **Tópicos**\n",
        "\n",
        "<ol type=\"1\">\n",
        "  <li>Listas;</li>\n",
        "  <li>Conjuntos;</li>\n",
        "  <li>Dicionários.</li>\n",
        "</ol>"
      ]
    },
    {
      "cell_type": "markdown",
      "metadata": {
        "id": "SmoHgt-lwkpD"
      },
      "source": [
        "---"
      ]
    },
    {
      "cell_type": "markdown",
      "metadata": {
        "id": "GABI6OW8OfQ2"
      },
      "source": [
        "# **Exercícios**"
      ]
    },
    {
      "cell_type": "markdown",
      "metadata": {
        "id": "muD1vxozykSC"
      },
      "source": [
        "## 1\\. Listas"
      ]
    },
    {
      "cell_type": "markdown",
      "metadata": {
        "id": "ahrFfCuBxJKs"
      },
      "source": [
        "Criei uma lista chamada `filmes` com o nome dos 10 primeiros filmes mais bem avaliados no site no [IMDB](https://www.imdb.com/chart/top/). Imprima o resultado."
      ]
    },
    {
      "cell_type": "code",
      "metadata": {
        "id": "OgL6Hv3bzOHI",
        "colab": {
          "base_uri": "https://localhost:8080/"
        },
        "outputId": "fdb3eb0d-8819-4c4b-f02d-11ecc95f8eac"
      },
      "source": [
        "#Classificação por: Avaliação da IMDb\n",
        "filmes = ['Um sonho de liberdade', 'O Poderoso Chefão', 'Batman: O Cavaleiro das Trevas',\n",
        "          'O Poderoso Chefão II','12 Homens e uma Sentença','A Lista de Schindler',\n",
        "          'O Senhor dos Anéis: O retorno do Rei',  'Pulp Fiction - Tempo de Violência',\n",
        "          'O Senhor dos Anéis: A Sociedade do Anel','Três homens em conflito']\n",
        "print(filmes)"
      ],
      "execution_count": null,
      "outputs": [
        {
          "output_type": "stream",
          "name": "stdout",
          "text": [
            "['Um sonho de liberdade', 'O Poderoso Chefão', 'Batman: O Cavaleiro das Trevas', 'O Poderoso Chefão II', '12 Homens e uma Sentença', 'A Lista de Schindler', 'O Senhor dos Anéis: O retorno do Rei', 'Pulp Fiction - Tempo de Violência', 'O Senhor dos Anéis: A Sociedade do Anel', 'Três homens em conflito']\n"
          ]
        }
      ]
    },
    {
      "cell_type": "markdown",
      "metadata": {
        "id": "KI9zQRT2xa7m"
      },
      "source": [
        "Simule a movimentação do *ranking*. Utilize os métodos `insert` e `pop` para trocar a posição do primeiro e do segundo filme da lista. Imprima o resultado.\n",
        "\n"
      ]
    },
    {
      "cell_type": "code",
      "source": [
        "filmes.insert(0,'Batman: O Cavaleiro das Trevas')\n",
        "print(filmes)\n",
        "remove_filmes = filmes.pop(3)\n",
        "print (remove_filmes)\n",
        "print(filmes)"
      ],
      "metadata": {
        "colab": {
          "base_uri": "https://localhost:8080/"
        },
        "id": "S5fOzNFGGMqP",
        "outputId": "39801f39-22f9-4b67-e54a-0ca9d2687425"
      },
      "execution_count": null,
      "outputs": [
        {
          "output_type": "stream",
          "name": "stdout",
          "text": [
            "['Batman: O Cavaleiro das Trevas', 'Um sonho de liberdade', 'O Poderoso Chefão', 'Batman: O Cavaleiro das Trevas', 'O Poderoso Chefão II', '12 Homens e uma Sentença', 'A Lista de Schindler', 'O Senhor dos Anéis: O retorno do Rei', 'Pulp Fiction - Tempo de Violência', 'O Senhor dos Anéis: A Sociedade do Anel', 'Três homens em conflito']\n",
            "Batman: O Cavaleiro das Trevas\n",
            "['Batman: O Cavaleiro das Trevas', 'Um sonho de liberdade', 'O Poderoso Chefão', 'O Poderoso Chefão II', '12 Homens e uma Sentença', 'A Lista de Schindler', 'O Senhor dos Anéis: O retorno do Rei', 'Pulp Fiction - Tempo de Violência', 'O Senhor dos Anéis: A Sociedade do Anel', 'Três homens em conflito']\n"
          ]
        }
      ]
    },
    {
      "cell_type": "markdown",
      "metadata": {
        "id": "zMN1Q3jdwoJm"
      },
      "source": [
        "---"
      ]
    },
    {
      "cell_type": "markdown",
      "metadata": {
        "id": "lxa5L6uF0ZJE"
      },
      "source": [
        "## 2\\. Conjuntos"
      ]
    },
    {
      "cell_type": "markdown",
      "metadata": {
        "id": "9JahS2Kj0d5u"
      },
      "source": [
        "Aconteceu um erro no seu *ranking*. Simule a duplicação dos três últimos filmes da lista. Imprima o resultado."
      ]
    },
    {
      "cell_type": "code",
      "source": [
        "print(filmes.index('Pulp Fiction - Tempo de Violência'))\n",
        "print(filmes.index('O Senhor dos Anéis: A Sociedade do Anel'))\n",
        "filmes.insert(8,'Pulp Fiction - Tempo de Violência')\n",
        "filmes.insert(9,'O Senhor dos Anéis: A Sociedade do Anel')\n",
        "filmes.append('Três homens em conflito')\n",
        "print(filmes)"
      ],
      "metadata": {
        "colab": {
          "base_uri": "https://localhost:8080/"
        },
        "id": "2EKllhnR1OGN",
        "outputId": "27e518b7-c89b-4fbb-baae-28235084383f"
      },
      "execution_count": null,
      "outputs": [
        {
          "output_type": "stream",
          "name": "stdout",
          "text": [
            "7\n",
            "8\n",
            "['Batman: O Cavaleiro das Trevas', 'Um sonho de liberdade', 'O Poderoso Chefão', 'O Poderoso Chefão II', '12 Homens e uma Sentença', 'A Lista de Schindler', 'O Senhor dos Anéis: O retorno do Rei', 'Pulp Fiction - Tempo de Violência', 'Pulp Fiction - Tempo de Violência', 'O Senhor dos Anéis: A Sociedade do Anel', 'O Senhor dos Anéis: A Sociedade do Anel', 'Três homens em conflito', 'Três homens em conflito']\n"
          ]
        }
      ]
    },
    {
      "cell_type": "markdown",
      "metadata": {
        "id": "suxTfCJB6ZiX"
      },
      "source": [
        "Utiliza a conversão `set` e `list` para remover os valores duplicados. Imprima o resultado."
      ]
    },
    {
      "cell_type": "code",
      "source": [
        "print(type(filmes))"
      ],
      "metadata": {
        "colab": {
          "base_uri": "https://localhost:8080/"
        },
        "id": "ppvg5wLF1NCf",
        "outputId": "233721ea-4530-406b-8534-a60b72fa372b"
      },
      "execution_count": null,
      "outputs": [
        {
          "output_type": "stream",
          "name": "stdout",
          "text": [
            "<class 'list'>\n"
          ]
        }
      ]
    },
    {
      "cell_type": "code",
      "source": [
        "converted = (set(filmes))\n",
        "print(converted)\n",
        "print(type(converted))"
      ],
      "metadata": {
        "colab": {
          "base_uri": "https://localhost:8080/"
        },
        "id": "aRQjxWbXIJnK",
        "outputId": "df3c1e0e-f07f-4a8c-bb6a-49de9a8c4b8c"
      },
      "execution_count": null,
      "outputs": [
        {
          "output_type": "stream",
          "name": "stdout",
          "text": [
            "{'O Poderoso Chefão', 'O Senhor dos Anéis: O retorno do Rei', 'O Senhor dos Anéis: A Sociedade do Anel', 'Batman: O Cavaleiro das Trevas', 'Um sonho de liberdade', 'O Poderoso Chefão II', 'Pulp Fiction - Tempo de Violência', 'A Lista de Schindler', '12 Homens e uma Sentença', 'Três homens em conflito'}\n",
            "<class 'set'>\n"
          ]
        }
      ]
    },
    {
      "cell_type": "code",
      "source": [
        "print(list(converted))\n",
        "print(type(list(converted)))"
      ],
      "metadata": {
        "colab": {
          "base_uri": "https://localhost:8080/"
        },
        "id": "N1XKZqhMKL3v",
        "outputId": "fd58c355-4b69-4be6-b8c4-cb76f31cb328"
      },
      "execution_count": null,
      "outputs": [
        {
          "output_type": "stream",
          "name": "stdout",
          "text": [
            "['O Poderoso Chefão', 'O Senhor dos Anéis: O retorno do Rei', 'O Senhor dos Anéis: A Sociedade do Anel', 'Batman: O Cavaleiro das Trevas', 'Um sonho de liberdade', 'O Poderoso Chefão II', 'Pulp Fiction - Tempo de Violência', 'A Lista de Schindler', '12 Homens e uma Sentença', 'Três homens em conflito']\n",
            "<class 'list'>\n"
          ]
        }
      ]
    },
    {
      "cell_type": "markdown",
      "metadata": {
        "id": "ShkK35eQ6pAM"
      },
      "source": [
        "---"
      ]
    },
    {
      "cell_type": "markdown",
      "metadata": {
        "id": "EL_FzmxL6rTv"
      },
      "source": [
        "## 3\\. Dicionários"
      ]
    },
    {
      "cell_type": "markdown",
      "metadata": {
        "id": "i8l0gFqRCpfT"
      },
      "source": [
        "Repita os exercícios da parte 1 (listas). Os elementos da lista `filmes` devem ser dicionários no seguinte formato: `{'nome': <nome-do-filme>, 'ano': <ano do filme>, 'sinopse': <sinopse do filme>}`."
      ]
    },
    {
      "cell_type": "code",
      "metadata": {
        "id": "tu6MSFwGDnHv",
        "colab": {
          "base_uri": "https://localhost:8080/"
        },
        "outputId": "39f322ce-3601-4daa-c1c7-2a850789d549"
      },
      "source": [
        "filmes = [{\n",
        "    'nome': 'Batman: O Cavaleiro das Trevas',\n",
        "    'ano': '2008' ,\n",
        "    'sinopse': 'uando a ameaça conhecida como O Coringa surge de seu passado, causa estragos e caos nas pessoas de Gotham. O Cavaleiro das Trevas deve aceitar um dos maiores testes para combater a injustiça.'\n",
        "},\n",
        "{\n",
        "    'nome': 'Um sonho de Liberdade',\n",
        "    'ano': '1994' ,\n",
        "    'sinopse':'Dois homens presos se reúnem ao longo de vários anos, encontrando consolo e eventual redenção através de atos de decência comum.'\n",
        "\n",
        "},\n",
        "{\n",
        "    'nome': 'O Poderoso Chefão',\n",
        "    'ano': '1972' ,\n",
        "    'sinopse':'O patriarca idoso de uma dinastia do crime organizado transfere o controle de seu império clandestino para seu filho relutante.'\n",
        "\n",
        "},\n",
        "{\n",
        "    'nome': 'O Poderoso Chefão II',\n",
        "    'ano': '1974' ,\n",
        "    'sinopse':'Em 1950, Michael Corleone, agora à frente da família, tenta expandir o negócio do crime a Las Vegas, Los Angeles e Cuba. Paralelamente, é revelada a história de Vito Corleone, e de como saiu da Sicília e chegou a Nova Iorque.',\n",
        "\n",
        "},\n",
        "{\n",
        "    'nome': '12 Homens e uma sentença',\n",
        "    'ano': '1957' ,\n",
        "    'sinopse':'O julgamento de um assassinato em Nova Iorque é frustrado por um único membro, cujo ceticismo força o júri a considerar cuidadosamente as evidências antes de dar o veredito.'\n",
        "},\n",
        "{\n",
        "    'nome': 'A Lista de Dchindler',\n",
        "    'ano': '1993' ,\n",
        "    'sinopse':'Na Polônia ocupada pelos alemães durante a Segunda Guerra Mundial, o industrial Oskar Schindler começa a ser preocupar com seus trabalhadores judeus depois de testemunhar sua perseguição pelos nazistas.'\n",
        "}]\n",
        "\n",
        "print(filmes)"
      ],
      "execution_count": null,
      "outputs": [
        {
          "output_type": "stream",
          "name": "stdout",
          "text": [
            "({'nome': 'Batman: O Cavaleiro das Trevas', 'ano': '2008', 'sinopse': 'uando a ameaça conhecida como O Coringa surge de seu passado, causa estragos e caos nas pessoas de Gotham. O Cavaleiro das Trevas deve aceitar um dos maiores testes para combater a injustiça.'},)\n"
          ]
        }
      ]
    }
  ]
}