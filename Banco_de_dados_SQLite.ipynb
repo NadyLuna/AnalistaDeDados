{
  "nbformat": 4,
  "nbformat_minor": 0,
  "metadata": {
    "colab": {
      "provenance": [],
      "authorship_tag": "ABX9TyNnMuzHgv7tStsgSjMc437I",
      "include_colab_link": true
    },
    "kernelspec": {
      "name": "python3",
      "display_name": "Python 3"
    },
    "language_info": {
      "name": "python"
    }
  },
  "cells": [
    {
      "cell_type": "markdown",
      "metadata": {
        "id": "view-in-github",
        "colab_type": "text"
      },
      "source": [
        "<a href=\"https://colab.research.google.com/github/NadyLuna/AnalistaDeDados/blob/main/Banco_de_dados_SQLite.ipynb\" target=\"_parent\"><img src=\"https://colab.research.google.com/assets/colab-badge.svg\" alt=\"Open In Colab\"/></a>"
      ]
    },
    {
      "cell_type": "code",
      "execution_count": null,
      "metadata": {
        "id": "b6KZKVp99Xq1"
      },
      "outputs": [],
      "source": [
        "#instalando o pacote\n",
        "pip install pysqlite3"
      ]
    },
    {
      "cell_type": "code",
      "source": [
        "#importanto o pacote\n",
        "import sqlite3"
      ],
      "metadata": {
        "id": "5p1RYUmx_FtI"
      },
      "execution_count": 10,
      "outputs": []
    },
    {
      "cell_type": "code",
      "source": [
        "#Criar uma conexão com o banco de dados\n",
        "conexao = sqlite3.connect('loucadosgatos.db')"
      ],
      "metadata": {
        "id": "R4mAEr_G_Zcg"
      },
      "execution_count": 12,
      "outputs": []
    },
    {
      "cell_type": "code",
      "source": [
        "#verificando o tipo de objeto\n",
        "type(conexao)"
      ],
      "metadata": {
        "colab": {
          "base_uri": "https://localhost:8080/"
        },
        "id": "_KV4IuVlAD75",
        "outputId": "596e03e8-69ab-47c0-ecac-4b4901205204"
      },
      "execution_count": 13,
      "outputs": [
        {
          "output_type": "execute_result",
          "data": {
            "text/plain": [
              "sqlite3.Connection"
            ]
          },
          "metadata": {},
          "execution_count": 13
        }
      ]
    },
    {
      "cell_type": "code",
      "source": [
        "#criando um cursor (Permite percorrer todos os registros em um conjunto de dados)\n",
        "cursor = conexao.cursor()"
      ],
      "metadata": {
        "id": "c4nf1i8GCg3y"
      },
      "execution_count": 14,
      "outputs": []
    },
    {
      "cell_type": "code",
      "source": [
        "#verificando o tipo de objeto\n",
        "type(cursor)"
      ],
      "metadata": {
        "colab": {
          "base_uri": "https://localhost:8080/"
        },
        "id": "Myyj9quiC0n_",
        "outputId": "bd166f27-2c5a-424b-b9f2-84d4db6b12ad"
      },
      "execution_count": null,
      "outputs": [
        {
          "output_type": "execute_result",
          "data": {
            "text/plain": [
              "sqlite3.Cursor"
            ]
          },
          "metadata": {},
          "execution_count": 11
        }
      ]
    },
    {
      "cell_type": "code",
      "source": [
        "#criando uma instrução/comando SQL (Tabela)\n",
        "comando = 'CREATE TABLE VIDEOS (ID INTEGER PRIMARY KEY, TITULO VARCHAR(100), CATEGORIA VARCHAR(140))' #string de estruturação de criação de tabela"
      ],
      "metadata": {
        "id": "IC35tvI4DEI4"
      },
      "execution_count": 1,
      "outputs": []
    },
    {
      "cell_type": "code",
      "source": [
        "type(comando)"
      ],
      "metadata": {
        "colab": {
          "base_uri": "https://localhost:8080/"
        },
        "id": "Vff8lhpmFZTA",
        "outputId": "21bcb47f-2145-429f-9895-e2ea7a1b74b6"
      },
      "execution_count": 3,
      "outputs": [
        {
          "output_type": "execute_result",
          "data": {
            "text/plain": [
              "str"
            ]
          },
          "metadata": {},
          "execution_count": 3
        }
      ]
    },
    {
      "cell_type": "code",
      "source": [
        "cursor.execute(comando)"
      ],
      "metadata": {
        "colab": {
          "base_uri": "https://localhost:8080/"
        },
        "id": "vXTdEtqBGONH",
        "outputId": "062f745c-7020-4985-934b-a35f47292d7d"
      },
      "execution_count": 15,
      "outputs": [
        {
          "output_type": "execute_result",
          "data": {
            "text/plain": [
              "<sqlite3.Cursor at 0x7968874225c0>"
            ]
          },
          "metadata": {},
          "execution_count": 15
        }
      ]
    },
    {
      "cell_type": "markdown",
      "source": [
        "# **Formas de Fazer o Insert**"
      ],
      "metadata": {
        "id": "5al614nEGjZC"
      }
    },
    {
      "cell_type": "code",
      "source": [
        "#número 1 - Fazendo um insert por vez\n",
        "cursor.execute(\"INSERT INTO VIDEOS VALUES(1, 'Gatos Malucos', 'gatoyodado')\")\n",
        "conexao.commit()\n",
        "#cursor.close()\n",
        "#conexao.close()\n"
      ],
      "metadata": {
        "id": "aEUNCJi8Gu02"
      },
      "execution_count": 16,
      "outputs": []
    },
    {
      "cell_type": "code",
      "source": [
        "#número 2 - fazendo um insert para inserir vários registros de uma vez\n",
        "comando = 'INSERT INTO VIDEOS VALUES (?,?,?)'"
      ],
      "metadata": {
        "id": "XO1L0NtP2oRy"
      },
      "execution_count": 17,
      "outputs": []
    },
    {
      "cell_type": "code",
      "source": [
        "type(comando)"
      ],
      "metadata": {
        "colab": {
          "base_uri": "https://localhost:8080/"
        },
        "id": "Fi8z7xUl3RGe",
        "outputId": "ef6cecdb-174c-4353-86d7-3b9323b9cd75"
      },
      "execution_count": 18,
      "outputs": [
        {
          "output_type": "execute_result",
          "data": {
            "text/plain": [
              "str"
            ]
          },
          "metadata": {},
          "execution_count": 18
        }
      ]
    },
    {
      "cell_type": "code",
      "source": [
        "#dados\n",
        "registros = [(2,'Gatos Românticos', 'gatofofinho'),\n",
        "             (3,'Gatos destrambelhados', 'gatocainotelhado'),\n",
        "             (4,'Gatos dorminhoscos', 'naomeacorde')]"
      ],
      "metadata": {
        "id": "A1T6_bk_3UFE"
      },
      "execution_count": 19,
      "outputs": []
    },
    {
      "cell_type": "code",
      "source": [
        "type(registros)"
      ],
      "metadata": {
        "colab": {
          "base_uri": "https://localhost:8080/"
        },
        "id": "SKrevOcw4lHw",
        "outputId": "84e3e21f-3b83-4a0c-9b06-77fb25ec8eb0"
      },
      "execution_count": 20,
      "outputs": [
        {
          "output_type": "execute_result",
          "data": {
            "text/plain": [
              "list"
            ]
          },
          "metadata": {},
          "execution_count": 20
        }
      ]
    },
    {
      "cell_type": "code",
      "source": [
        "#inserindo o registros\n",
        "for registro in registros:\n",
        "    cursor.execute(comando, registro)\n"
      ],
      "metadata": {
        "id": "SkhjGJfZ4ote"
      },
      "execution_count": 21,
      "outputs": []
    },
    {
      "cell_type": "code",
      "source": [
        "conexao.commit()"
      ],
      "metadata": {
        "id": "17g2kgw-5bJX"
      },
      "execution_count": 22,
      "outputs": []
    },
    {
      "cell_type": "markdown",
      "source": [
        "# **Selecionando e Recuperando os Registros**"
      ],
      "metadata": {
        "id": "8VTW3sIM6N8E"
      }
    },
    {
      "cell_type": "code",
      "source": [
        "#Criando setença SQL para selecionar registros\n",
        "\n",
        "comando = 'select * from videos'"
      ],
      "metadata": {
        "id": "eHyv2V-q640z"
      },
      "execution_count": 23,
      "outputs": []
    },
    {
      "cell_type": "code",
      "source": [
        "#Seleciona todos os registros e recupera registros\n",
        "cursor.execute(comando)\n",
        "dados = cursor.fetchall()"
      ],
      "metadata": {
        "id": "wYc_pImX7Dk2"
      },
      "execution_count": 24,
      "outputs": []
    },
    {
      "cell_type": "code",
      "source": [],
      "metadata": {
        "id": "ok0YnsnG7Tfu"
      },
      "execution_count": null,
      "outputs": []
    },
    {
      "cell_type": "markdown",
      "source": [
        "# **Exibindo os registros do banco de dados**"
      ],
      "metadata": {
        "id": "_gzPMorp7VW5"
      }
    },
    {
      "cell_type": "code",
      "source": [
        "for linha in dados:\n",
        "    print('ID_VIDEO: %d, Título: %s, Categoria: %s \\n' % linha)"
      ],
      "metadata": {
        "colab": {
          "base_uri": "https://localhost:8080/"
        },
        "id": "DkbOjbrF7fSo",
        "outputId": "529cc8df-52ec-41d4-9d2f-c5463121d6d5"
      },
      "execution_count": 31,
      "outputs": [
        {
          "output_type": "stream",
          "name": "stdout",
          "text": [
            "ID_VIDEO: 1, Título: Gatos Malucos, Categoria: gatoyodado \n",
            "\n",
            "ID_VIDEO: 2, Título: Gatos Românticos, Categoria: gatofofinho \n",
            "\n",
            "ID_VIDEO: 3, Título: Gatos destrambelhados, Categoria: gatocainotelhado \n",
            "\n",
            "ID_VIDEO: 4, Título: Gatos dorminhoscos, Categoria: naomeacorde \n",
            "\n"
          ]
        }
      ]
    }
  ]
}